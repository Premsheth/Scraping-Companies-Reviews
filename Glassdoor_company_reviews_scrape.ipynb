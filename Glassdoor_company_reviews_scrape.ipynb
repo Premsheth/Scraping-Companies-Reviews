{
 "cells": [
  {
   "cell_type": "code",
   "execution_count": 9,
   "metadata": {},
   "outputs": [
    {
     "name": "stdout",
     "output_type": "stream",
     "text": [
      "http://www.glassdoor.com/Reviews/Alexander-Mann-Solutions-reviews-SRCH_KE0,24.htm\n"
     ]
    }
   ],
   "source": [
    "import requests\n",
    "from bs4 import BeautifulSoup\n",
    "import urllib\n",
    "import pandas as pd\n",
    "import numpy as np\n",
    "import re\n",
    "\n",
    "base_url = 'http://www.glassdoor.com'\n",
    "company_name = 'Alexander Mann Solutions'\n",
    "country = \"United Kingdom\"\n",
    "url = base_url + '/Reviews/' + company_name.replace(' ','-') + '-reviews-SRCH_KE0,' + str(len(company_name)) +'.htm'\n",
    "print(url)"
   ]
  },
  {
   "cell_type": "code",
   "execution_count": 10,
   "metadata": {
    "collapsed": true
   },
   "outputs": [],
   "source": [
    "header = {\"User-Agent\":\"Mozilla/5.0 Gecko/20100101 Firefox/33.0 GoogleChrome/10.0\"}\n",
    "response = requests.get(url, headers = header)\n",
    "soup = BeautifulSoup(response.text,'lxml')"
   ]
  },
  {
   "cell_type": "code",
   "execution_count": 11,
   "metadata": {},
   "outputs": [
    {
     "name": "stdout",
     "output_type": "stream",
     "text": [
      "/Reviews/Alexander-Mann-Solutions-Reviews-E296892\n"
     ]
    }
   ],
   "source": [
    "atag = soup.find_all('a')\n",
    "links=[]\n",
    "\n",
    "for link in atag:\n",
    "    if link.has_attr('href'):\n",
    "        if \"-Reviews-\" in link[\"href\"]:\n",
    "            links.append(link[\"href\"])\n",
    "\n",
    "print(links[0].split(\".\")[0])"
   ]
  },
  {
   "cell_type": "code",
   "execution_count": 13,
   "metadata": {},
   "outputs": [
    {
     "data": {
      "text/plain": [
       "{'Negative_reviews': ['Cons \"They talk up work/life balance but it is not true as the expectations is to keep pushing you beyond a regular work day to work more and more\"  (in 21 reviews) \"Rather slow career progression (but this was in my case so this is not entirely right for everyone)\"  (in 16 reviews) \"Very cliquey - if you\\'re not in the inner circle, at senior management, it\\'s hard to break in\"  (in 15 reviews) \"The management team are just the same people being moved from one position to another\"  (in 9 reviews) \"Firstly there is poor management and career development plans in place purely because management don\\'t have a clue\"  (in 8 reviews)',\n",
       "  'None - the business leaders listen to and act on feedback through both formal and informal mechanisms and are constantly striving to make things better for the people and our clients',\n",
       "  'The salary might be higher.',\n",
       "  \"Absolutely NO Training whatsoever...ZERO training at start. Don't expect any Manager Engagement and you should have RPO experience before you start. I did not and NEVER had a performance, compensation or bonus conversation in the 3 years I worked there. Every client requires a high req load (average of 40 reqs). Managers are kept so busy, they never have time to discuss your goals, compensation, career path, etc...\",\n",
       "  \"AMS US management is among the .of the worst ever worked with. Who is molding them to act so unprofessional and unappreciative of employees. Methods to attempt to motivate others are less than effective. It's a real grind and they will push, push, push for more regardless of if you have already worked 10+ hours a day. It's all about the bottom level revenue for AMS. Not taking into account what is good for the client account they will cut back on recruiters, resources, and tools and before you know it you are left out there hanging or laid-off. It's not a supportive culture. Get em in...get em out! Don't listen to their big sell on getting you in the door - it all changes once you are on the team. They don't try to find you other work if they cut back on accounts. Be prepared and save your money because you will be downsized and out of work. Retaliation is REAL if you speak up at AMS.\",\n",
       "  'Huddles are a waste of time and certain recruiters and talent pool \"specialists\" don\\'t know what they\\'re doing.'],\n",
       " 'Positive_reviews': ['Pros \"PTO plan helps with work-life balance\"  (in 40 reviews) \"Very progressive approach to flexible working, very family friendly policies\"  (in 52 reviews) \"Ability to work from home, interesting customers that you can work for, possibility to use and practice languages\"  (in 20 reviews) \"Great people who truly live the values set out by the organisation\"  (in 24 reviews) \"The company is consistently winning new business and growing its client base\"  (in 16 reviews)',\n",
       "  'Great people, great clients, great aspirations to be better, open collaborative culture with a genuine care for the team. Fantastic opportunities for people to build careers on an international stage with great clients!',\n",
       "  'Nice people, good atmosphere. Good work culture. Flexible working hours.',\n",
       "  'Benefits were amazing! The amount of PTO is awesome. Moving to other clients is dependent on their needs but, good if you are lucky to be in the right time of year.',\n",
       "  'Benefits, colleagues, remote work, client quality',\n",
       "  'Opportunity to develop and grow in your role as well as able to move to other departments. Training readily available.'],\n",
       " 'rating': '3.6'}"
      ]
     },
     "execution_count": 13,
     "metadata": {},
     "output_type": "execute_result"
    }
   ],
   "source": [
    "pos_review = []\n",
    "neg_review = []\n",
    "pos = []\n",
    "neg = []\n",
    "#for i in range(1,10):\n",
    "#    New_url = base_url + links[0].split(\".\")[0] + \"_P\" +str(i)+'.htm'\n",
    "    #print(New_url)\n",
    "    \n",
    "new_url = base_url + links[0].split(\".\")[0] + \"_P1\"+'.htm'\n",
    "\n",
    "response_new = requests.get(new_url, headers = header)\n",
    "soup_new = BeautifulSoup(response_new.text,'lxml')\n",
    "\n",
    "a_pos = soup_new.find_all(attrs = {'class':'pros'})\n",
    "\n",
    "\n",
    "for i in range(0,len(a_pos)):\n",
    "    pos.append(a_pos[i].text)\n",
    "\n",
    "#pos_review.append(list(pos))\n",
    "\n",
    "a_neg = soup_new.find_all(attrs = {'class':'cons'})\n",
    "\n",
    "for i in range(0,len(a_neg)):\n",
    "    neg.append(a_neg[i].text)\n",
    "\n",
    "response1_new = requests.get(new_url, headers = header)\n",
    "soup1_new = BeautifulSoup(response1_new.text,'lxml')\n",
    "\n",
    "comp_rating = soup1_new.find('div',{'class':'ratingNum'})\n",
    "\n",
    "rating = comp_rating.text\n",
    "\n",
    "d = {'rating': rating,'Positive_reviews': pos[:6], 'Negative_reviews': neg[:6]}\n",
    "d"
   ]
  },
  {
   "cell_type": "code",
   "execution_count": 38,
   "metadata": {},
   "outputs": [
    {
     "data": {
      "text/plain": [
       "5"
      ]
     },
     "execution_count": 38,
     "metadata": {},
     "output_type": "execute_result"
    }
   ],
   "source": [
    "len(pos[6:])"
   ]
  },
  {
   "cell_type": "code",
   "execution_count": 43,
   "metadata": {},
   "outputs": [
    {
     "data": {
      "text/plain": [
       "['dynamic environment a lot of creative freedoms, smart and passionate people, office in soho',\n",
       " 'The on boarding and set up for employees is very professional. The office and the location is another big plus. Noah is a good guy.',\n",
       " \"the sector is a good one, good basic salary, some intelligent people work there, office locations are good...gosh I've got to get to 20 word minimum and I am done with the pros.\",\n",
       " '-It is true, you will work with some very smart, interesting & intelligent people. Work, no matter where, is always better when you are with/around people who challenge your ways of thinking and introduce you to new things daily-Product team is very knowledgeable. They have a great mindset, leader & have the ability to make this tool successful.-Exposure to clients at a very senior level ( VP, SVP, CMO)-Opportunity to learn about SaaS, the industry, etc.. as many in the company have worked at different companies in the industry',\n",
       " \"- Much like the software itself, everything looks great initially: Slick offices, shiny product, nice co-workers. However, it's when you scratch the surface everything starts to get ugly\"]"
      ]
     },
     "execution_count": 43,
     "metadata": {},
     "output_type": "execute_result"
    }
   ],
   "source": [
    "pos[1:6]"
   ]
  },
  {
   "cell_type": "code",
   "execution_count": 20,
   "metadata": {},
   "outputs": [
    {
     "data": {
      "text/plain": [
       "'Percolate'"
      ]
     },
     "execution_count": 20,
     "metadata": {},
     "output_type": "execute_result"
    }
   ],
   "source": [
    "d = {'company_name': 'Percolate'}\n",
    "company = d['company_name']\n",
    "company"
   ]
  },
  {
   "cell_type": "code",
   "execution_count": 22,
   "metadata": {},
   "outputs": [
    {
     "data": {
      "text/plain": [
       "[\"Percolate's had some hiccups over the past couple of months, including hiring too many sellers at too quickly of a pace. Companies experience growing pains all the time, and Percolate is no different. Also important to keep in mind that this is a start-up. If you're looking for a large, stable company, Percolate might not be the best option for you. The people who excel here are able to be flexible, and okay with change.Percolate hired a CFO late last year who came in and restructured. Only a couple of teams were impacted. Shortly after, the CFO presented a plan to the company at an all hands meeting, and the transparency was much appreciated. I believe company morale is rising now that things have settled down.\",\n",
       " \"not really a con but it's still a startup, so sometimes it takes a few iterations to get the direction right\",\n",
       " 'I can confirm that previous reviews of fear-mongering and intimidation from the c-suite are accurate. Emails telling employees that they are doing a piss-poor job - but with more swearing- and an overall attitude in meetings is just the start. Only a few sellers are praised, though many of the sales people we celebrate sell fictional features and poorly constructed deals. We are often being told to say Yes to any prospects\\' questions, and are put in a place to lie and lose any personal credibility while making a quick buck. This backfires. I agree that communication and leadership from the top is non-existent unless it is a rude email. Leadership is also quick to embarrass or contradict employees under the bus in a meeting of the price is not right or if I say we do not have a specific feature. People have mentioned that benefits being taken away is an issue. Free food, an education stipend, and a small $200 wellness stipend have all been taken away from employees. When management asks for feedback on how the company is doing on anonymous surveys, the questions and comments that are negative are met with mean responses over email and say \"if you do not like being a seller at Percolate, you should leave.\" Everyone is anxious for the reasons above.The biggest con mentioned above is the continuous lying that our team does to prospects and existing clients. I have not spent my career in sales to lose credibility with my network.',\n",
       " '-Percolate is a very toxic environment. From the managing with fear, lack of communication about serious cash flow issues to their inability to provide employees with the resources they need to be successful, although they claim to do this well.-Employees constantly ask for 401k matching as a benefit. CEO\\'s rant about how \"we invest in your future by giving you options with the company\" - by giving you options, they mean they give you the option to purchase these should you leave the company. Explain to me how this is the company\\'s way of investing in our future vs. the employee investing solo.-Employee recognition is non-existent. In a world where good help is hard to come by, the least you can do is look to reward employees for going above and beyond their job description. Company outings & holiday party are nothing more than an \"all you can drink\" at the local watering hole. You are what you attract. Look to celebrate your success with more than a PBR and tacos.-Work/life balance',\n",
       " 'Poor leadership, highly inexperienced management, especially those early days hires who were then promoted to directors...oh their arrogance...product strategy is poor. In the enterprise space competitors are winning almost every time against Percolate...clients churn is scary, very few new clients signed quarterly... most business decisions such as hiring plans and following layoffs., product pricing changes...all out of a \"how not to run a startup\" for dummies manual.Plenty of proper companies to work for out there, Percolate isn\\'t one of them.',\n",
       " \"- Obtuse, macho-man management style. A culture of fear pervades the company - that's just the way they've like it. This won't changes unless the guys at the top move (Don't hold your breath!).- Percolate wants nothing more than to be cool but they can't even put together a functioning product and 'kool-aid' clients are starting to take note. Ridiculous overspending on things like taxi ads and have come back to bite hard.- Percolate management reviews suggest a 'complete turnaround'. I can't comment on that personally, but I suspect these particular leopards are unable to change their spots.There are many other good companies in NYC. Join them instead.\",\n",
       " '-Management is inexperienced, unwilling to solicit feedback from employees, and the product is nowhere near as advanced as they try to make it out to be.',\n",
       " 'Good portion of the talent at the company is on its way out because of the desperate energy coming from management while the company hangs on during its last year of funding.Dealing with first time cofounders, the overall vision is solid but the executive team has little to no prior managerial experience, this is unfortunately felt throughout the organization.Not a team environment, little to no room for mistakes, lots of finger pointing to avoid backlash from cofounders. People are not people, they are #s.Would recommend waiting a year to see if company is still around before taking a position here.',\n",
       " 'They will sell you the moon in the hiring process and give the line \"When you\\'re offered a seat on a rocket ship, you don\\'t ask what seat, you just get on.\" When you ask too many questions about scalability or financial stability, you\\'ll be told they have plenty of money and know exactly what they\\'re doing. Yet once I was hired and learned how poorly their money was managed, I knew I\\'d be laid off soon. With no set budgets their managers and execs blew through cash racking up huge bills, ranging from enormous recruiting fees to thousands a month on exotic fruits for snacks. I saw first hand degrading emails and messages sent from execs to the staff regarding their performance (like not closing deals that really only would have been closed by selling a lie) to highly unprofessional terminations resulting in embarrassing email debates between the CEO and VPS, with entire teams cc\\'d.',\n",
       " 'Very few benefits. I would love free lunch and dinner, but as a stockholder I’m fine investing that money back into the company.']"
      ]
     },
     "execution_count": 22,
     "metadata": {},
     "output_type": "execute_result"
    }
   ],
   "source": [
    "neg[-10:]"
   ]
  },
  {
   "cell_type": "code",
   "execution_count": 23,
   "metadata": {},
   "outputs": [
    {
     "data": {
      "text/plain": [
       "['Pros \"Awesome office, awesome people, great product, passionate clients\"  (in 9 reviews) \"Strong, fun community filled with smart, inspiring, and hard-working colleagues\"  (in 9 reviews) \"It is an excellent SaaS company with a positive and bright future with room to grow your career\"  (in 5 reviews) \"The culture and the atmosphere is welcoming, inviting, and it makes me enjoy coming to work in the morning\"  (in 4 reviews) \"The company culture, close-knit atmosphere, and fast paced environment were exactly what I was looking for in my next move\"  (in 5 reviews)',\n",
       " \"- Great group of smart, fun people to work with.- The product looks BEAUTIFUL and it's easy to use.- The market is starting to recognize the need for this solution.- The company is maturing.- The Executive leadership team is clicking along nicely.\",\n",
       " \"Some of the best people I've ever worked with, hands down. From day one, everyone was so welcoming and supportive. The NY office is very casual and fun. Many of the people I worked with during my time here are now close friends. It really is like a little family.\",\n",
       " \"Great CEO, great office location, great colleagues. It is always a positive when you are invested in other people's success and they're invested in yours. Makes getting out of bed very easy in the morning.\",\n",
       " 'Great people.Decent work-life balance.New CEO is providing much needed direction and leadership.Great coffee, lunch on Wednesdays and decent breakfast options.',\n",
       " 'I\\'ve worked at Percolate for nearly 2 years and love it! Everyday I\\'m excited to come to work because I know I\\'ll have opportunities to do something new and something I\\'ve never done before. The people are fun and the company has an amazingly positive, \"can-do\" spirit. Everyone is willing to help to get a job done. I\\'ve grown more confident than ever that we are heading in the right direction with our product and strategy and I look forward to seeing where we will be two years from now.',\n",
       " 'Strong, fun community filled with smart, inspiring, and hard-working colleagues. Fun to have the opportunity to analyze areas we can grow & improve and have a true impact on influencing and executing thoughtful solutions.',\n",
       " \"I've been given great opportunities at Percolate and been able to learn a lot being here.Our leaders are always working super hard to make our company a success and this carries down to every individual here. People are really invested in doing well and will help you wherever they can. Changes in leadership recently have been really encouraging, too, so we're looking at real positives on the horizon.The people are what makes the place what it is, once you're here you're part of the Percolate Family!\",\n",
       " \"I've worked at Percolate for a little over a year and so far love it! The people are amazing and my team is really supportive, especially my manager. I think the company has come a long way in the past year and I feel more confident than ever that we are heading in the right direction. We are also seeing a huge increase in communication between leadership and employees and that increased visibility is bringing more trust and confidence in our company. Very happy to be here!\",\n",
       " \"-Really love the people-Strong company values-We have the right leadership in place-Noticeable different in the amount of communication across the company. Always feel like we're in the know-Leaders seem to really care about their employees and the future of the company\"]"
      ]
     },
     "execution_count": 23,
     "metadata": {},
     "output_type": "execute_result"
    }
   ],
   "source": [
    "pos[:10]"
   ]
  },
  {
   "cell_type": "code",
   "execution_count": 24,
   "metadata": {
    "collapsed": true
   },
   "outputs": [],
   "source": [
    "test_pos = pd.DataFrame(pos)\n",
    "#dt1['sentiment'] = 1\n",
    "test_pos.columns = ['reviews']\n",
    "test_neg = pd.DataFrame(neg)\n",
    "#dt2['sentiment'] = 0\n",
    "test_neg.columns = ['reviews']\n",
    "\n",
    "dt = pd.concat([test_pos,test_neg])\n",
    "dt.to_csv('test.csv',index = False)"
   ]
  },
  {
   "cell_type": "code",
   "execution_count": 14,
   "metadata": {
    "collapsed": true
   },
   "outputs": [],
   "source": [
    "#df = []\n",
    "#for i in range(0,len(pos_review)):\n",
    "#    for j in range(0,(len(pos_review[0]))):\n",
    "#        df.append(pos_review[i][j])\n",
    "#df1 = []\n",
    "#for i in range(0,len(neg_review)):\n",
    "#    for j in range(0,(len(neg_review[0]))):\n",
    "#        df1.append(neg_review[i][j])\n",
    "        \n",
    "train_pos = pd.DataFrame(pos)\n",
    "train_pos['sentiment'] = 1\n",
    "train_pos.columns = ['reviews','sentiment']\n",
    "train_neg = pd.DataFrame(neg)\n",
    "train_neg['sentiment'] = 0\n",
    "train_neg.columns = ['reviews','sentiment']\n",
    "\n",
    "dt = pd.concat([train_pos,train_neg])\n",
    "#dt.columns=['reviews']"
   ]
  },
  {
   "cell_type": "code",
   "execution_count": null,
   "metadata": {
    "collapsed": true
   },
   "outputs": [],
   "source": []
  }
 ],
 "metadata": {
  "kernelspec": {
   "display_name": "Python 3",
   "language": "python",
   "name": "python3"
  },
  "language_info": {
   "codemirror_mode": {
    "name": "ipython",
    "version": 3
   },
   "file_extension": ".py",
   "mimetype": "text/x-python",
   "name": "python",
   "nbconvert_exporter": "python",
   "pygments_lexer": "ipython3",
   "version": "3.6.3"
  }
 },
 "nbformat": 4,
 "nbformat_minor": 2
}
